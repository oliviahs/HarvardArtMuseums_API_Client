{
 "cells": [
  {
   "cell_type": "code",
   "execution_count": 23,
   "id": "d73b1b30",
   "metadata": {
    "scrolled": false
   },
   "outputs": [],
   "source": [
    "from harvardartmuseums_pkg import harvardartmuseums_pkg"
   ]
  },
  {
   "cell_type": "markdown",
   "id": "00bb5187",
   "metadata": {},
   "source": [
    "# harvardartmuseums_pkg\n",
    "\n",
    "This notebook is for a vignette for harvardartmuseums_pkg python package functions usage. \n",
    "\n",
    "harvardartmuseums_pkg is to get datasets from the Harvard Art Museums API. In order to use this package and get datasets, you first need to create your api key at their official website: https://harvardartmuseums.org/collections/api\n",
    "\n",
    "\n",
    "There are 3 different functions that will let you create 3 types of datasets of items in the Harvard Art Museums collections.\n",
    "\n",
    "1. get_title_classification(url): Get a dataset of all titles with a word you choose and its classification\n",
    "\n",
    "2. get_artist(url): Get a dataset of all female or male artists who are from a country(culture) you choose\n",
    "\n",
    "3. get_exhibitions(url): Get a dataset of all exhibitions that were held in the selected period\n",
    "\n",
    "\n",
    "Each function requires a URL or a HTTPResponse. \n",
    "The following functions will make the URLs/HTTPResponse for you with the parameters you choose!\n",
    "\n",
    "1. get_url_for_title(text, apikey): Get a url for get_title_classification()\n",
    "\n",
    "    - text: str\n",
    "        A string of a word that you wish to find in the titles of artwork\n",
    "    - apikey: str\n",
    "        A string of your apikey, given by Harvard Art Museums\n",
    "      \n",
    "      \n",
    "2. get_url_for_artist(country, gender, apikey): Get a url for get_artist()\n",
    "\n",
    "    - country: str\n",
    "        A string of a culture name that you wish to find in artists\n",
    "    - gender: str\n",
    "        A string of gender (female/male) that you wish to find in artists\n",
    "    - apikey: str\n",
    "        A string of your apikey, given by Harvard Art Museums\n",
    "    \n",
    "        \n",
    "3. get_url_for_exhibition(after, before, apikey): Get a url for get_exhibitions()\n",
    "\n",
    "    - after: str\n",
    "        A string of a starting year of a period when exhibitions were held\n",
    "    - before: str\n",
    "        A string of an ending year of a period when exhibitions were held\n",
    "    - apikey: str\n",
    "        A string of your apikey, given by Harvard Art Museums\n"
   ]
  },
  {
   "cell_type": "markdown",
   "id": "4421c4ed",
   "metadata": {},
   "source": [
    "# Examples"
   ]
  },
  {
   "cell_type": "code",
   "execution_count": 3,
   "id": "fed17d15",
   "metadata": {},
   "outputs": [
    {
     "data": {
      "text/plain": [
       "'https://api.harvardartmuseums.org/object?title=cat&apikey=d7a856a1-f4df-4726-958f-957b2762b17f'"
      ]
     },
     "execution_count": 3,
     "metadata": {},
     "output_type": "execute_result"
    }
   ],
   "source": [
    "text = \"cat\"\n",
    "apikey = \"d7a856a1-f4df-4726-958f-957b2762b17f\"\n",
    "\n",
    "harvardartmuseums_pkg.get_url_for_title(text, apikey)"
   ]
  },
  {
   "cell_type": "code",
   "execution_count": 4,
   "id": "1080cb91",
   "metadata": {
    "scrolled": true
   },
   "outputs": [
    {
     "data": {
      "text/html": [
       "<div>\n",
       "<style scoped>\n",
       "    .dataframe tbody tr th:only-of-type {\n",
       "        vertical-align: middle;\n",
       "    }\n",
       "\n",
       "    .dataframe tbody tr th {\n",
       "        vertical-align: top;\n",
       "    }\n",
       "\n",
       "    .dataframe thead th {\n",
       "        text-align: right;\n",
       "    }\n",
       "</style>\n",
       "<table border=\"1\" class=\"dataframe\">\n",
       "  <thead>\n",
       "    <tr style=\"text-align: right;\">\n",
       "      <th></th>\n",
       "      <th>title</th>\n",
       "      <th>classification</th>\n",
       "    </tr>\n",
       "  </thead>\n",
       "  <tbody>\n",
       "    <tr>\n",
       "      <th>0</th>\n",
       "      <td>Untitled (girl posing with cat on lawn in fron...</td>\n",
       "      <td>Photographs</td>\n",
       "    </tr>\n",
       "    <tr>\n",
       "      <th>1</th>\n",
       "      <td>Untitled (man with cats in boxing ring)</td>\n",
       "      <td>Photographs</td>\n",
       "    </tr>\n",
       "    <tr>\n",
       "      <th>2</th>\n",
       "      <td>Untitled (two cats wearing hooded capes and gl...</td>\n",
       "      <td>Photographs</td>\n",
       "    </tr>\n",
       "    <tr>\n",
       "      <th>3</th>\n",
       "      <td>Untitled (two cats wearing hooded capes and bo...</td>\n",
       "      <td>Photographs</td>\n",
       "    </tr>\n",
       "    <tr>\n",
       "      <th>4</th>\n",
       "      <td>Untitled (woman holding large cat in her arms)</td>\n",
       "      <td>Photographs</td>\n",
       "    </tr>\n",
       "  </tbody>\n",
       "</table>\n",
       "</div>"
      ],
      "text/plain": [
       "                                               title classification\n",
       "0  Untitled (girl posing with cat on lawn in fron...    Photographs\n",
       "1            Untitled (man with cats in boxing ring)    Photographs\n",
       "2  Untitled (two cats wearing hooded capes and gl...    Photographs\n",
       "3  Untitled (two cats wearing hooded capes and bo...    Photographs\n",
       "4     Untitled (woman holding large cat in her arms)    Photographs"
      ]
     },
     "execution_count": 4,
     "metadata": {},
     "output_type": "execute_result"
    }
   ],
   "source": [
    "cat = harvardartmuseums_pkg.get_title_classification('https://api.harvardartmuseums.org/object?title=cat&apikey=d7a856a1-f4df-4726-958f-957b2762b17f')\n",
    "cat.head()"
   ]
  },
  {
   "cell_type": "code",
   "execution_count": 5,
   "id": "e6fbe2b2",
   "metadata": {},
   "outputs": [
    {
     "data": {
      "text/plain": [
       "'https://api.harvardartmuseums.org/person?apikey=d7a856a1-f4df-4726-958f-957b2762b17f&q=culture%3ADutch%2C%20gender%3Amale'"
      ]
     },
     "execution_count": 5,
     "metadata": {},
     "output_type": "execute_result"
    }
   ],
   "source": [
    "country='Dutch'\n",
    "gender='male'\n",
    "apikey = \"d7a856a1-f4df-4726-958f-957b2762b17f\"\n",
    "\n",
    "harvardartmuseums_pkg.get_url_for_artist(country, gender, apikey)"
   ]
  },
  {
   "cell_type": "code",
   "execution_count": 6,
   "id": "b6f3f89f",
   "metadata": {
    "scrolled": false
   },
   "outputs": [
    {
     "data": {
      "text/html": [
       "<div>\n",
       "<style scoped>\n",
       "    .dataframe tbody tr th:only-of-type {\n",
       "        vertical-align: middle;\n",
       "    }\n",
       "\n",
       "    .dataframe tbody tr th {\n",
       "        vertical-align: top;\n",
       "    }\n",
       "\n",
       "    .dataframe thead th {\n",
       "        text-align: right;\n",
       "    }\n",
       "</style>\n",
       "<table border=\"1\" class=\"dataframe\">\n",
       "  <thead>\n",
       "    <tr style=\"text-align: right;\">\n",
       "      <th></th>\n",
       "      <th>gender</th>\n",
       "      <th>displayname</th>\n",
       "      <th>url</th>\n",
       "      <th>objectcount</th>\n",
       "      <th>birthplace</th>\n",
       "      <th>datebegin</th>\n",
       "      <th>dateend</th>\n",
       "      <th>culture</th>\n",
       "      <th>personid</th>\n",
       "      <th>deathplace</th>\n",
       "    </tr>\n",
       "  </thead>\n",
       "  <tbody>\n",
       "    <tr>\n",
       "      <th>0</th>\n",
       "      <td>male</td>\n",
       "      <td>John van't Slot</td>\n",
       "      <td>https://www.harvardartmuseums.org/collections/...</td>\n",
       "      <td>1</td>\n",
       "      <td>Rotterdam, Netherlands</td>\n",
       "      <td>1949</td>\n",
       "      <td>0</td>\n",
       "      <td>Dutch</td>\n",
       "      <td>18134</td>\n",
       "      <td>None</td>\n",
       "    </tr>\n",
       "    <tr>\n",
       "      <th>1</th>\n",
       "      <td>male</td>\n",
       "      <td>Cornelis Dusart</td>\n",
       "      <td>https://www.harvardartmuseums.org/collections/...</td>\n",
       "      <td>52</td>\n",
       "      <td>Haarlem, Netherlands</td>\n",
       "      <td>1660</td>\n",
       "      <td>1704</td>\n",
       "      <td>Dutch</td>\n",
       "      <td>18969</td>\n",
       "      <td>Haarlem, Netherlands</td>\n",
       "    </tr>\n",
       "    <tr>\n",
       "      <th>2</th>\n",
       "      <td>male</td>\n",
       "      <td>Jan van der Heyden</td>\n",
       "      <td>https://www.harvardartmuseums.org/collections/...</td>\n",
       "      <td>8</td>\n",
       "      <td>Gorkum</td>\n",
       "      <td>1637</td>\n",
       "      <td>1712</td>\n",
       "      <td>Dutch</td>\n",
       "      <td>20403</td>\n",
       "      <td>Amsterdam</td>\n",
       "    </tr>\n",
       "    <tr>\n",
       "      <th>3</th>\n",
       "      <td>male</td>\n",
       "      <td>Johannes Teyler</td>\n",
       "      <td>https://www.harvardartmuseums.org/collections/...</td>\n",
       "      <td>4</td>\n",
       "      <td>Nijmegen</td>\n",
       "      <td>1648</td>\n",
       "      <td>1697</td>\n",
       "      <td>Dutch</td>\n",
       "      <td>20732</td>\n",
       "      <td>None</td>\n",
       "    </tr>\n",
       "    <tr>\n",
       "      <th>4</th>\n",
       "      <td>male</td>\n",
       "      <td>Werner van den Valckert</td>\n",
       "      <td>https://www.harvardartmuseums.org/collections/...</td>\n",
       "      <td>2</td>\n",
       "      <td>The Hague (?)</td>\n",
       "      <td>1580</td>\n",
       "      <td>1628</td>\n",
       "      <td>Dutch</td>\n",
       "      <td>20750</td>\n",
       "      <td>Amsterdam</td>\n",
       "    </tr>\n",
       "  </tbody>\n",
       "</table>\n",
       "</div>"
      ],
      "text/plain": [
       "  gender              displayname  \\\n",
       "0   male          John van't Slot   \n",
       "1   male          Cornelis Dusart   \n",
       "2   male       Jan van der Heyden   \n",
       "3   male          Johannes Teyler   \n",
       "4   male  Werner van den Valckert   \n",
       "\n",
       "                                                 url  objectcount  \\\n",
       "0  https://www.harvardartmuseums.org/collections/...            1   \n",
       "1  https://www.harvardartmuseums.org/collections/...           52   \n",
       "2  https://www.harvardartmuseums.org/collections/...            8   \n",
       "3  https://www.harvardartmuseums.org/collections/...            4   \n",
       "4  https://www.harvardartmuseums.org/collections/...            2   \n",
       "\n",
       "               birthplace  datebegin  dateend culture  personid  \\\n",
       "0  Rotterdam, Netherlands       1949        0   Dutch     18134   \n",
       "1    Haarlem, Netherlands       1660     1704   Dutch     18969   \n",
       "2                  Gorkum       1637     1712   Dutch     20403   \n",
       "3                Nijmegen       1648     1697   Dutch     20732   \n",
       "4           The Hague (?)       1580     1628   Dutch     20750   \n",
       "\n",
       "             deathplace  \n",
       "0                  None  \n",
       "1  Haarlem, Netherlands  \n",
       "2             Amsterdam  \n",
       "3                  None  \n",
       "4             Amsterdam  "
      ]
     },
     "execution_count": 6,
     "metadata": {},
     "output_type": "execute_result"
    }
   ],
   "source": [
    "dutch_male = harvardartmuseums_pkg.get_artist(\"https://api.harvardartmuseums.org/person?apikey=d7a856a1-f4df-4726-958f-957b2762b17f&q=culture%3ADutch%2C%20gender%3Amale\")\n",
    "\n",
    "dutch_male.head()"
   ]
  },
  {
   "cell_type": "code",
   "execution_count": 15,
   "id": "7e2163ec",
   "metadata": {},
   "outputs": [],
   "source": [
    "after = '1975'\n",
    "before = '2005'\n",
    "apikey = \"d7a856a1-f4df-4726-958f-957b2762b17f\""
   ]
  },
  {
   "cell_type": "code",
   "execution_count": 16,
   "id": "080f95c9",
   "metadata": {},
   "outputs": [
    {
     "data": {
      "text/plain": [
       "'https://api.harvardartmuseums.org/exhibition?after=1975&before=2005&apikey=d7a856a1-f4df-4726-958f-957b2762b17f'"
      ]
     },
     "execution_count": 16,
     "metadata": {},
     "output_type": "execute_result"
    }
   ],
   "source": [
    "harvardartmuseums_pkg.get_url_for_exhibition(after, before, apikey)"
   ]
  },
  {
   "cell_type": "code",
   "execution_count": 17,
   "id": "155b1872",
   "metadata": {},
   "outputs": [
    {
     "data": {
      "text/html": [
       "<div>\n",
       "<style scoped>\n",
       "    .dataframe tbody tr th:only-of-type {\n",
       "        vertical-align: middle;\n",
       "    }\n",
       "\n",
       "    .dataframe tbody tr th {\n",
       "        vertical-align: top;\n",
       "    }\n",
       "\n",
       "    .dataframe thead th {\n",
       "        text-align: right;\n",
       "    }\n",
       "</style>\n",
       "<table border=\"1\" class=\"dataframe\">\n",
       "  <thead>\n",
       "    <tr style=\"text-align: right;\">\n",
       "      <th></th>\n",
       "      <th>begindate</th>\n",
       "      <th>enddate</th>\n",
       "      <th>title</th>\n",
       "      <th>url</th>\n",
       "      <th>exhibitionid</th>\n",
       "    </tr>\n",
       "  </thead>\n",
       "  <tbody>\n",
       "    <tr>\n",
       "      <th>0</th>\n",
       "      <td>1975-02</td>\n",
       "      <td>1975-02</td>\n",
       "      <td>Informel 1</td>\n",
       "      <td>https://www.harvardartmuseums.org/visit/exhibi...</td>\n",
       "      <td>4998</td>\n",
       "    </tr>\n",
       "    <tr>\n",
       "      <th>1</th>\n",
       "      <td>1975-04-17</td>\n",
       "      <td>1975-09-22</td>\n",
       "      <td>Benjamin Franklin: A Perspective</td>\n",
       "      <td>https://www.harvardartmuseums.org/visit/exhibi...</td>\n",
       "      <td>166</td>\n",
       "    </tr>\n",
       "    <tr>\n",
       "      <th>2</th>\n",
       "      <td>1975-10-07</td>\n",
       "      <td>1975-11-18</td>\n",
       "      <td>Painting, Drawing and Sculpture of the '60s an...</td>\n",
       "      <td>https://www.harvardartmuseums.org/visit/exhibi...</td>\n",
       "      <td>3755</td>\n",
       "    </tr>\n",
       "    <tr>\n",
       "      <th>3</th>\n",
       "      <td>1976-03-01</td>\n",
       "      <td>1976-04-30</td>\n",
       "      <td>Russian Suprematist and Constructivist Art, 19...</td>\n",
       "      <td>https://www.harvardartmuseums.org/visit/exhibi...</td>\n",
       "      <td>4165</td>\n",
       "    </tr>\n",
       "    <tr>\n",
       "      <th>4</th>\n",
       "      <td>1977-05-12</td>\n",
       "      <td>1977-06-20</td>\n",
       "      <td>Concentrator's Choice</td>\n",
       "      <td>https://www.harvardartmuseums.org/visit/exhibi...</td>\n",
       "      <td>227</td>\n",
       "    </tr>\n",
       "  </tbody>\n",
       "</table>\n",
       "</div>"
      ],
      "text/plain": [
       "    begindate     enddate                                              title  \\\n",
       "0     1975-02     1975-02                                         Informel 1   \n",
       "1  1975-04-17  1975-09-22                   Benjamin Franklin: A Perspective   \n",
       "2  1975-10-07  1975-11-18  Painting, Drawing and Sculpture of the '60s an...   \n",
       "3  1976-03-01  1976-04-30  Russian Suprematist and Constructivist Art, 19...   \n",
       "4  1977-05-12  1977-06-20                              Concentrator's Choice   \n",
       "\n",
       "                                                 url  exhibitionid  \n",
       "0  https://www.harvardartmuseums.org/visit/exhibi...          4998  \n",
       "1  https://www.harvardartmuseums.org/visit/exhibi...           166  \n",
       "2  https://www.harvardartmuseums.org/visit/exhibi...          3755  \n",
       "3  https://www.harvardartmuseums.org/visit/exhibi...          4165  \n",
       "4  https://www.harvardartmuseums.org/visit/exhibi...           227  "
      ]
     },
     "execution_count": 17,
     "metadata": {},
     "output_type": "execute_result"
    }
   ],
   "source": [
    "exhibition = harvardartmuseums_pkg.get_exhibitions('https://api.harvardartmuseums.org/exhibition?after=1975&before=2005&apikey=d7a856a1-f4df-4726-958f-957b2762b17f')\n",
    "exhibition.head()"
   ]
  }
 ],
 "metadata": {
  "kernelspec": {
   "display_name": "Python 3",
   "language": "python",
   "name": "python3"
  },
  "language_info": {
   "codemirror_mode": {
    "name": "ipython",
    "version": 3
   },
   "file_extension": ".py",
   "mimetype": "text/x-python",
   "name": "python",
   "nbconvert_exporter": "python",
   "pygments_lexer": "ipython3",
   "version": "3.8.8"
  }
 },
 "nbformat": 4,
 "nbformat_minor": 5
}
