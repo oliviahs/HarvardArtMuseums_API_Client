{
 "cells": [
  {
   "cell_type": "code",
   "execution_count": 2,
   "id": "7986d08b",
   "metadata": {
    "scrolled": false
   },
   "outputs": [
    {
     "name": "stdout",
     "output_type": "stream",
     "text": [
      "Looking in indexes: https://test.pypi.org/pypi/, https://pypi.org/simple\n",
      "Requirement already satisfied: harvardartmuseums_pkg in /Users/oliviashin/Library/Caches/pypoetry/virtualenvs/harvardartmuseums-pkg-k8jp6-F3-py3.8/lib/python3.8/site-packages (0.1.0)\n",
      "Requirement already satisfied: pytest<7.0.0,>=6.2.5 in /Users/oliviashin/Library/Caches/pypoetry/virtualenvs/harvardartmuseums-pkg-k8jp6-F3-py3.8/lib/python3.8/site-packages (from harvardartmuseums_pkg) (6.2.5)\n",
      "Requirement already satisfied: requests<3.0.0,>=2.26.0 in /Users/oliviashin/Library/Caches/pypoetry/virtualenvs/harvardartmuseums-pkg-k8jp6-F3-py3.8/lib/python3.8/site-packages (from harvardartmuseums_pkg) (2.26.0)\n",
      "Requirement already satisfied: pandas<2.0.0,>=1.3.5 in /Users/oliviashin/Library/Caches/pypoetry/virtualenvs/harvardartmuseums-pkg-k8jp6-F3-py3.8/lib/python3.8/site-packages (from harvardartmuseums_pkg) (1.3.5)\n",
      "Requirement already satisfied: urllib3<2.0.0,>=1.26.7 in /Users/oliviashin/Library/Caches/pypoetry/virtualenvs/harvardartmuseums-pkg-k8jp6-F3-py3.8/lib/python3.8/site-packages (from harvardartmuseums_pkg) (1.26.7)\n",
      "Requirement already satisfied: pytz>=2017.3 in /Users/oliviashin/Library/Caches/pypoetry/virtualenvs/harvardartmuseums-pkg-k8jp6-F3-py3.8/lib/python3.8/site-packages (from pandas<2.0.0,>=1.3.5->harvardartmuseums_pkg) (2021.3)\n",
      "Requirement already satisfied: numpy>=1.17.3 in /Users/oliviashin/Library/Caches/pypoetry/virtualenvs/harvardartmuseums-pkg-k8jp6-F3-py3.8/lib/python3.8/site-packages (from pandas<2.0.0,>=1.3.5->harvardartmuseums_pkg) (1.21.4)\n",
      "Requirement already satisfied: python-dateutil>=2.7.3 in /Users/oliviashin/Library/Caches/pypoetry/virtualenvs/harvardartmuseums-pkg-k8jp6-F3-py3.8/lib/python3.8/site-packages (from pandas<2.0.0,>=1.3.5->harvardartmuseums_pkg) (2.8.2)\n",
      "Requirement already satisfied: pluggy<2.0,>=0.12 in /Users/oliviashin/Library/Caches/pypoetry/virtualenvs/harvardartmuseums-pkg-k8jp6-F3-py3.8/lib/python3.8/site-packages (from pytest<7.0.0,>=6.2.5->harvardartmuseums_pkg) (1.0.0)\n",
      "Requirement already satisfied: iniconfig in /Users/oliviashin/Library/Caches/pypoetry/virtualenvs/harvardartmuseums-pkg-k8jp6-F3-py3.8/lib/python3.8/site-packages (from pytest<7.0.0,>=6.2.5->harvardartmuseums_pkg) (1.1.1)\n",
      "Requirement already satisfied: toml in /Users/oliviashin/Library/Caches/pypoetry/virtualenvs/harvardartmuseums-pkg-k8jp6-F3-py3.8/lib/python3.8/site-packages (from pytest<7.0.0,>=6.2.5->harvardartmuseums_pkg) (0.10.2)\n",
      "Requirement already satisfied: attrs>=19.2.0 in /Users/oliviashin/Library/Caches/pypoetry/virtualenvs/harvardartmuseums-pkg-k8jp6-F3-py3.8/lib/python3.8/site-packages (from pytest<7.0.0,>=6.2.5->harvardartmuseums_pkg) (21.2.0)\n",
      "Requirement already satisfied: packaging in /Users/oliviashin/Library/Caches/pypoetry/virtualenvs/harvardartmuseums-pkg-k8jp6-F3-py3.8/lib/python3.8/site-packages (from pytest<7.0.0,>=6.2.5->harvardartmuseums_pkg) (21.3)\n",
      "Requirement already satisfied: py>=1.8.2 in /Users/oliviashin/Library/Caches/pypoetry/virtualenvs/harvardartmuseums-pkg-k8jp6-F3-py3.8/lib/python3.8/site-packages (from pytest<7.0.0,>=6.2.5->harvardartmuseums_pkg) (1.11.0)\n",
      "Requirement already satisfied: certifi>=2017.4.17 in /Users/oliviashin/Library/Caches/pypoetry/virtualenvs/harvardartmuseums-pkg-k8jp6-F3-py3.8/lib/python3.8/site-packages (from requests<3.0.0,>=2.26.0->harvardartmuseums_pkg) (2021.10.8)\n",
      "Requirement already satisfied: idna<4,>=2.5 in /Users/oliviashin/Library/Caches/pypoetry/virtualenvs/harvardartmuseums-pkg-k8jp6-F3-py3.8/lib/python3.8/site-packages (from requests<3.0.0,>=2.26.0->harvardartmuseums_pkg) (3.3)\n",
      "Requirement already satisfied: charset-normalizer~=2.0.0 in /Users/oliviashin/Library/Caches/pypoetry/virtualenvs/harvardartmuseums-pkg-k8jp6-F3-py3.8/lib/python3.8/site-packages (from requests<3.0.0,>=2.26.0->harvardartmuseums_pkg) (2.0.9)\n",
      "Requirement already satisfied: six>=1.5 in /Users/oliviashin/Library/Caches/pypoetry/virtualenvs/harvardartmuseums-pkg-k8jp6-F3-py3.8/lib/python3.8/site-packages (from python-dateutil>=2.7.3->pandas<2.0.0,>=1.3.5->harvardartmuseums_pkg) (1.16.0)\n",
      "Requirement already satisfied: pyparsing!=3.0.5,>=2.0.2 in /Users/oliviashin/Library/Caches/pypoetry/virtualenvs/harvardartmuseums-pkg-k8jp6-F3-py3.8/lib/python3.8/site-packages (from packaging->pytest<7.0.0,>=6.2.5->harvardartmuseums_pkg) (3.0.6)\n"
     ]
    }
   ],
   "source": [
    "!python -m pip install -i https://test.pypi.org/pypi/ --extra-index-url https://pypi.org/simple harvardartmuseums_pkg"
   ]
  },
  {
   "cell_type": "code",
   "execution_count": 1,
   "id": "d73b1b30",
   "metadata": {
    "scrolled": true
   },
   "outputs": [
    {
     "ename": "ModuleNotFoundError",
     "evalue": "No module named 'harvardartmuseums_pkg'",
     "output_type": "error",
     "traceback": [
      "\u001b[0;31m---------------------------------------------------------------------------\u001b[0m",
      "\u001b[0;31mModuleNotFoundError\u001b[0m                       Traceback (most recent call last)",
      "\u001b[0;32m<ipython-input-1-98f8db273f90>\u001b[0m in \u001b[0;36m<module>\u001b[0;34m\u001b[0m\n\u001b[0;32m----> 1\u001b[0;31m \u001b[0;32mfrom\u001b[0m \u001b[0mharvardartmuseums_pkg\u001b[0m \u001b[0;32mimport\u001b[0m \u001b[0mharvardartmuseums_pkg\u001b[0m\u001b[0;34m\u001b[0m\u001b[0;34m\u001b[0m\u001b[0m\n\u001b[0m",
      "\u001b[0;31mModuleNotFoundError\u001b[0m: No module named 'harvardartmuseums_pkg'"
     ]
    }
   ],
   "source": [
    "from harvardartmuseums_pkg import harvardartmuseums_pkg"
   ]
  },
  {
   "cell_type": "code",
   "execution_count": 6,
   "id": "425a2468",
   "metadata": {},
   "outputs": [
    {
     "ename": "NameError",
     "evalue": "name 'harvardartmuseums_pkg' is not defined",
     "output_type": "error",
     "traceback": [
      "\u001b[0;31m---------------------------------------------------------------------------\u001b[0m",
      "\u001b[0;31mNameError\u001b[0m                                 Traceback (most recent call last)",
      "\u001b[0;32m<ipython-input-6-7e237cb1376c>\u001b[0m in \u001b[0;36m<module>\u001b[0;34m\u001b[0m\n\u001b[1;32m      1\u001b[0m \u001b[0mtext\u001b[0m \u001b[0;34m=\u001b[0m \u001b[0;34m\"cat\"\u001b[0m\u001b[0;34m\u001b[0m\u001b[0;34m\u001b[0m\u001b[0m\n\u001b[1;32m      2\u001b[0m \u001b[0mapikey\u001b[0m \u001b[0;34m=\u001b[0m \u001b[0;34m\"yourapikey\"\u001b[0m\u001b[0;34m\u001b[0m\u001b[0;34m\u001b[0m\u001b[0m\n\u001b[0;32m----> 3\u001b[0;31m \u001b[0mharvardartmuseums_pkg\u001b[0m\u001b[0;34m.\u001b[0m\u001b[0mget_url_for_title\u001b[0m\u001b[0;34m(\u001b[0m\u001b[0mtext\u001b[0m\u001b[0;34m,\u001b[0m \u001b[0mapikey\u001b[0m\u001b[0;34m)\u001b[0m\u001b[0;34m\u001b[0m\u001b[0;34m\u001b[0m\u001b[0m\n\u001b[0m",
      "\u001b[0;31mNameError\u001b[0m: name 'harvardartmuseums_pkg' is not defined"
     ]
    }
   ],
   "source": [
    "text = \"cat\"\n",
    "apikey = \"yourapikey\"\n",
    "harvardartmuseums_pkg.get_url_for_title(text, apikey)"
   ]
  },
  {
   "cell_type": "code",
   "execution_count": null,
   "id": "9c7379b2",
   "metadata": {},
   "outputs": [],
   "source": []
  }
 ],
 "metadata": {
  "kernelspec": {
   "display_name": "Python 3",
   "language": "python",
   "name": "python3"
  },
  "language_info": {
   "codemirror_mode": {
    "name": "ipython",
    "version": 3
   },
   "file_extension": ".py",
   "mimetype": "text/x-python",
   "name": "python",
   "nbconvert_exporter": "python",
   "pygments_lexer": "ipython3",
   "version": "3.8.8"
  }
 },
 "nbformat": 4,
 "nbformat_minor": 5
}
