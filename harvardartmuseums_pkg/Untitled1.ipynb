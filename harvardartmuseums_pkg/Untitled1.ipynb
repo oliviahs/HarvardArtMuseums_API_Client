{
 "cells": [
  {
   "cell_type": "code",
   "execution_count": 1,
   "id": "3a5c1c8c",
   "metadata": {
    "scrolled": true
   },
   "outputs": [
    {
     "name": "stdout",
     "output_type": "stream",
     "text": [
      "Looking in indexes: https://test.pypi.org/pypi/, https://pypi.org/simple\n",
      "Collecting harvardartmuseums_pkg\n",
      "  Downloading https://test-files.pythonhosted.org/packages/ee/3d/89257d9cdeb0a83c7cc5ffae2e6b44dadcbd5c812fb767e8c4826f246990/harvardartmuseums_pkg-0.1.0-py3-none-any.whl (4.6 kB)\n",
      "Collecting requests<3.0.0,>=2.26.0\n",
      "  Using cached requests-2.26.0-py2.py3-none-any.whl (62 kB)\n",
      "Collecting pytest<7.0.0,>=6.2.5\n",
      "  Using cached pytest-6.2.5-py3-none-any.whl (280 kB)\n",
      "Requirement already satisfied: pandas<2.0.0,>=1.3.5 in /Users/oliviashin/Library/Caches/pypoetry/virtualenvs/mds-beIGYYGn-py3.8/lib/python3.8/site-packages (from harvardartmuseums_pkg) (1.3.5)\n",
      "Collecting urllib3<2.0.0,>=1.26.7\n",
      "  Using cached urllib3-1.26.7-py2.py3-none-any.whl (138 kB)\n",
      "\u001b[31mERROR: Package 'harvardartmuseums-pkg' requires a different Python: 3.8.8 not in '<4.0,>=3.9'\u001b[0m\n"
     ]
    }
   ],
   "source": [
    "!python -m pip install -i https://test.pypi.org/pypi/ --extra-index-url https://pypi.org/simple harvardartmuseums_pkg"
   ]
  },
  {
   "cell_type": "code",
   "execution_count": 2,
   "id": "36ad7721",
   "metadata": {},
   "outputs": [
    {
     "name": "stdout",
     "output_type": "stream",
     "text": [
      "Looking in indexes: https://test.pypi.org/simple/\n",
      "\u001b[31mERROR: Could not find a version that satisfies the requirement harvardartmuseums-pkg (from versions: none)\u001b[0m\n",
      "\u001b[31mERROR: No matching distribution found for harvardartmuseums-pkg\u001b[0m\n",
      "Note: you may need to restart the kernel to use updated packages.\n"
     ]
    }
   ],
   "source": [
    "pip install -i https://test.pypi.org/simple/ harvardartmuseums-pkg"
   ]
  },
  {
   "cell_type": "code",
   "execution_count": 3,
   "id": "bd21c4a1",
   "metadata": {},
   "outputs": [
    {
     "name": "stdout",
     "output_type": "stream",
     "text": [
      "Looking in indexes: https://test.pypi.org/simple/\n",
      "\u001b[31mERROR: Could not find a version that satisfies the requirement harvardartmuseums-pkg (from versions: none)\u001b[0m\n",
      "\u001b[31mERROR: No matching distribution found for harvardartmuseums-pkg\u001b[0m\n"
     ]
    }
   ],
   "source": [
    "!pip install -i https://test.pypi.org/simple/ harvardartmuseums-pkg"
   ]
  },
  {
   "cell_type": "code",
   "execution_count": 4,
   "id": "8d398f3f",
   "metadata": {},
   "outputs": [
    {
     "name": "stdout",
     "output_type": "stream",
     "text": [
      "\u001b[31mERROR: Could not find a version that satisfies the requirement harvardartmuseums-pkg (from versions: none)\u001b[0m\n",
      "\u001b[31mERROR: No matching distribution found for harvardartmuseums-pkg\u001b[0m\n",
      "Note: you may need to restart the kernel to use updated packages.\n"
     ]
    }
   ],
   "source": [
    "pip install harvardartmuseums-pkg"
   ]
  },
  {
   "cell_type": "code",
   "execution_count": 5,
   "id": "b753aa00",
   "metadata": {},
   "outputs": [
    {
     "name": "stdout",
     "output_type": "stream",
     "text": [
      "\u001b[31mERROR: Could not find a version that satisfies the requirement harvardartmuseums-pkg (from versions: none)\u001b[0m\r\n",
      "\u001b[31mERROR: No matching distribution found for harvardartmuseums-pkg\u001b[0m\r\n"
     ]
    }
   ],
   "source": [
    "!pip install harvardartmuseums-pkg"
   ]
  },
  {
   "cell_type": "code",
   "execution_count": null,
   "id": "0c40c122",
   "metadata": {},
   "outputs": [],
   "source": []
  }
 ],
 "metadata": {
  "kernelspec": {
   "display_name": "Python 3 (ipykernel)",
   "language": "python",
   "name": "python3"
  },
  "language_info": {
   "codemirror_mode": {
    "name": "ipython",
    "version": 3
   },
   "file_extension": ".py",
   "mimetype": "text/x-python",
   "name": "python",
   "nbconvert_exporter": "python",
   "pygments_lexer": "ipython3",
   "version": "3.8.8"
  }
 },
 "nbformat": 4,
 "nbformat_minor": 5
}
